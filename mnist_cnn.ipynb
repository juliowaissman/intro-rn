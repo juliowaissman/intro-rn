{
  "nbformat": 4,
  "nbformat_minor": 0,
  "metadata": {
    "colab": {
      "provenance": []
    },
    "kernelspec": {
      "name": "python3",
      "display_name": "Python 3"
    },
    "language_info": {
      "name": "python"
    }
  },
  "cells": [
    {
      "cell_type": "markdown",
      "source": [
        "<center>\n",
        "<a target=\"_blank\" href=\"http://eeit.sec.gob.mx/\">\n",
        "  <img src=\"http://eeit.sec.gob.mx/assets/media/others/bubble-12.png\" width=250pt style=\"padding-bottom:5px;\" />\n",
        "</a>\n",
        "<br/><br/><br/>\n",
        "<a target=\"_blank\" href=\"https://educacion.sonora.gob.mx/\">\n",
        "  <img src=\"https://educacion.sonora.gob.mx/images/2023/07/17/logo-sec.svg\" width=150pt style=\"padding-bottom:5px;\" />\n",
        "</a>\n",
        "</center>\n",
        "\n",
        "<h1><b>Mi primera CNN (Convolucional) en TensorFlow</b> </h1>\n",
        "\n",
        "<author>Julio Waissman Vilanova</author>\n",
        "\n",
        "<br/>\n",
        "\n",
        "<a target=\"_blank\" href=\"https://colab.research.google.com/github/juliowaissman/eeit2024/blob/main/mnist-cnn.ipynb\">\n",
        "<img src=\"https://i.ibb.co/2P3SLwK/colab.png\" width=30pt />\n",
        "<i>Para usar en Google Colab</i></a>"
      ],
      "metadata": {
        "id": "e0aa57ruGuCy"
      }
    },
    {
      "cell_type": "markdown",
      "source": [
        "## Hasta donde andábamos la libreta pasada\n",
        "\n",
        "Bueno, esto ya te lo sabes, pero para retomar, necesitamos volver a cargar los datos de MNIST.\n",
        "\n",
        "Ya no se necesita mucha explicación."
      ],
      "metadata": {
        "id": "dJDL15m9G-49"
      }
    },
    {
      "cell_type": "code",
      "execution_count": 1,
      "metadata": {
        "id": "_loHMiKNGrCw"
      },
      "outputs": [],
      "source": [
        "import numpy as np\n",
        "import matplotlib.pyplot as plt\n",
        "import tensorflow as tf"
      ]
    },
    {
      "cell_type": "code",
      "source": [
        "# TensorFlow ya te permite bajar ciertos conjuntos de datos famosos\n",
        "\n",
        "mnist = tf.keras.datasets.mnist\n",
        "(train_images, train_labels), (test_images, test_labels) = mnist.load_data()\n",
        "train_images = (np.expand_dims(train_images, axis=-1)/255.).astype(np.float32)\n",
        "train_labels = (train_labels).astype(np.int64)\n",
        "test_images = (np.expand_dims(test_images, axis=-1)/255.).astype(np.float32)\n",
        "test_labels = (test_labels).astype(np.int64)\n",
        "\n",
        "plt.figure(figsize=(7,7))\n",
        "random_inds = np.random.choice(60000,36)\n",
        "for i in range(36):\n",
        "    plt.subplot(6,6,i+1)\n",
        "    plt.grid(False)\n",
        "    plt.axis('off')\n",
        "    image_ind = random_inds[i]\n",
        "    plt.imshow(np.squeeze(train_images[image_ind]), cmap=plt.cm.binary)\n",
        "    plt.title(train_labels[image_ind], y=.8)\n",
        "plt.show()"
      ],
      "metadata": {
        "id": "UcVG4MGkHSmS"
      },
      "execution_count": null,
      "outputs": []
    },
    {
      "cell_type": "markdown",
      "source": [
        "## Redes neuronales convolucionales CNN\n",
        "\n",
        "Como vimos en la pequeña presentación, las redes neuronales convolucionales (CNN) son particularmente adecuadas para una variedad de tareas en visión por computadora y han logrado precisiones casi perfectas en el conjunto de datos MNIST. Ahora construiremos una CNN compuesta por dos capas convolucionales seguidas cada una por capas de `max-pooling`. Al final dos capas completamente conectadas y, en última instancia, generaremos una distribución de probabilidad entre las clases de 10 dígitos (0-9). La CNN que construiremos se muestra a continuación:\n",
        "\n",
        "![alt_text](https://raw.githubusercontent.com/aamini/introtodeeplearning/master/lab2/img/convnet_fig.png \"Arquitectura CNN para clasificación MNIST\")\n",
        "\n"
      ],
      "metadata": {
        "id": "as_ed-GYHhnr"
      }
    },
    {
      "cell_type": "markdown",
      "source": [
        "## El modelo CNN\n",
        "\n",
        "Usaremos los mismos conjuntos de datos de entrenamiento y prueba que antes, y procederemos de manera similar a nuestra red completamente conectada para definir y entrenar nuestro nuevo modelo CNN.\n",
        "\n",
        "Para hacer esto, exploraremos dos capas que no hemos encontrado antes:\n",
        "\n",
        "- [`keras.layers.Conv2D` ](https://www.tensorflow.org/api_docs/python/tf/keras/layers/Conv2D) para defina capas convolucionales\n",
        "- [`keras.layers.MaxPool2D`](https://www.tensorflow.org/api_docs/python/tf/keras/layers/MaxPool2D) para definir las capas de agrupación.\n",
        "\n",
        "Utiliza los parámetros que se muestran en la arquitectura de red del esquema anterior para definir estas capas y construir el modelo CNN."
      ],
      "metadata": {
        "id": "shIn5BXII26e"
      }
    },
    {
      "cell_type": "code",
      "source": [
        "def build_cnn_model():\n",
        "    cnn_model = tf.keras.Sequential([\n",
        "\n",
        "        # TODO: Define primera capa convolucional\n",
        "        tf.keras.layers.Conv2D('''TODO'''),\n",
        "\n",
        "        # TODO: Define primera capa de pooling\n",
        "        tf.keras.layers.MaxPool2D('''TODO'''),\n",
        "\n",
        "        # TODO: Define segunda capa convolucional\n",
        "        tf.keras.layers.Conv2D('''TODO'''),\n",
        "\n",
        "        # TODO: Define segunda capa de pooling\n",
        "        tf.keras.layers.MaxPool2D('''TODO'''),\n",
        "\n",
        "        tf.keras.layers.Flatten(),\n",
        "        tf.keras.layers.Dense(128, activation='relu'),\n",
        "        # TODO: Define the last Dense layer to output the classification\n",
        "        # probabilities. Pay attention to the activation needed a probability\n",
        "        # output\n",
        "        #[TODO Dense layer to output classification probabilities]\n",
        "    ])\n",
        "\n",
        "    return cnn_model"
      ],
      "metadata": {
        "id": "SNqh68SYIaZc"
      },
      "execution_count": 3,
      "outputs": []
    },
    {
      "cell_type": "markdown",
      "source": [
        "Vamos a generar el modelo y visualizarlos con el método `summary`:"
      ],
      "metadata": {
        "id": "eKGwzPICJQs0"
      }
    },
    {
      "cell_type": "code",
      "source": [
        "model = build_cnn_model()\n",
        "\n",
        "# Inicializa el modelo con un dato para poder graficarlo\n",
        "model.predict(train_images[[0]])\n",
        "\n",
        "# Muestra una representación gráfica del modelo y sus detalles.\n",
        "print(model.summary())"
      ],
      "metadata": {
        "id": "VRDNZsloJZUI"
      },
      "execution_count": null,
      "outputs": []
    },
    {
      "cell_type": "markdown",
      "source": [
        "## Entrenar y probar el modelo CNN\n",
        "\n",
        "Ahora, como en la libreta anterior, podemos definir la función de pérdida, el optimizador y las métricas mediante el método `compile`.\n",
        "\n",
        "Compila el modelo CNN con un optimizador y una tasa de aprendizaje de tu elección:"
      ],
      "metadata": {
        "id": "YxLnFCWdLhmC"
      }
    },
    {
      "cell_type": "code",
      "source": [
        "'''TODO: Define la compilación para mandar entrenar'''\n",
        "model.compile(\n",
        "    optimizer='''TODO''',\n",
        "    loss='''TODO''',\n",
        "    metrics=['accuracy']\n",
        ") # TODO"
      ],
      "metadata": {
        "id": "RPli82YdLwhE"
      },
      "execution_count": null,
      "outputs": []
    },
    {
      "cell_type": "code",
      "source": [
        "'''TODO: Completa la función fit con el tamaño de batch y nñumero de epochs.'''\n",
        "\n",
        "model.fit(\n",
        "    '''TODO'''\n",
        ")"
      ],
      "metadata": {
        "id": "zsYwIbRAMBtd"
      },
      "execution_count": null,
      "outputs": []
    },
    {
      "cell_type": "code",
      "source": [
        "'''TODO: Evalua el modelo con los datos de prueba'''\n",
        "test_loss, test_acc = # TODO\n",
        "\n",
        "print('Test accuracy:', test_acc)"
      ],
      "metadata": {
        "id": "0OsPulpnMT0l"
      },
      "execution_count": null,
      "outputs": []
    },
    {
      "cell_type": "markdown",
      "source": [
        "## El concurso\n",
        "\n",
        "**¿Cuál es la precisión más alta que puede lograr utilizando el modelo CNN y cómo se compara la precisión del modelo CNN con la precisión de la red simple completamente conectada?**\n",
        "\n",
        "**¿Qué optimizadores y tasas de aprendizaje parecen óptimos para entrenar el modelo CNN?**\n",
        "\n",
        "**Tienes 15 minutos para encontrar el mejor modelo posible, quien logre la mayor *accuracy* en el conjunto de test, y con el menor sobreajuste, gana. Recuerda que puedes modificar sobre el código ya escrito**"
      ],
      "metadata": {
        "id": "WM69TgvQNb8m"
      }
    },
    {
      "cell_type": "markdown",
      "source": [
        "## Hacer predicciones con el modelo CNN\n",
        "\n",
        "Con el modelo entrenado, podemos usarlo para hacer predicciones sobre algunas imágenes. La llamada a la función [`predict`](https://www.tensorflow.org/api_docs/python/tf/keras/models/Sequential#predict) genera las predicciones de salida dado un conjunto de muestras de entrada."
      ],
      "metadata": {
        "id": "UGb_oPOCNlFc"
      }
    },
    {
      "cell_type": "code",
      "source": [
        "predictions = model.predict(test_images)"
      ],
      "metadata": {
        "id": "gJsZ6uhRPGjV"
      },
      "execution_count": null,
      "outputs": []
    },
    {
      "cell_type": "markdown",
      "source": [
        "Con esta llamada a función, el modelo ha predicho la etiqueta para cada imagen en el conjunto de prueba. Echemos un vistazo a la predicción de la primera imagen del conjunto de datos de prueba:"
      ],
      "metadata": {
        "id": "k6gpZ_m_PRYy"
      }
    },
    {
      "cell_type": "code",
      "source": [
        "predictions[0]"
      ],
      "metadata": {
        "id": "Kx7v6p_FPdUh"
      },
      "execution_count": null,
      "outputs": []
    },
    {
      "cell_type": "markdown",
      "source": [
        "Como puedes ver, una predicción es una matriz de 10 números. Recuerda que el resultado de nuestro modelo es una distribución de probabilidad entre las clases de 10 dígitos. Así, estos números describen la *confianza* del modelo en que la imagen corresponde a cada uno de los 10 dígitos diferentes.\n",
        "\n",
        "Veamos el dígito que tiene la mayor confianza para la primera imagen en el conjunto de datos de prueba:"
      ],
      "metadata": {
        "id": "cRb8g2g7PiNg"
      }
    },
    {
      "cell_type": "code",
      "source": [
        "prediction = predictions[0].argmax()\n",
        "\n",
        "print(\"Valor predicho es \", prediction)\n",
        "print(\"La etiqueta real es: \", test_labels[0])\n",
        "\n",
        "plt.figure(figsize=(2,2))\n",
        "plt.imshow(test_images[0,:,:,0], cmap=plt.cm.binary)\n",
        "plt.axis('off')\n",
        "plt.show()"
      ],
      "metadata": {
        "id": "aL8ibfm0P20B"
      },
      "execution_count": null,
      "outputs": []
    },
    {
      "cell_type": "markdown",
      "source": [
        "Visualicemos los resultados de la clasificación en el conjunto de datos MNIST. Mostramos a continuación imágenes del conjunto de datos de prueba junto con su etiqueta predicha, así como un histograma que proporciona las probabilidades de predicción para cada uno de los dígitos:"
      ],
      "metadata": {
        "id": "_mNAPVwbRRmO"
      }
    },
    {
      "cell_type": "code",
      "source": [
        "#@title Change the slider to look at the model's predictions! { run: \"auto\" }\n",
        "\n",
        "image_index = 77 #@param {type:\"slider\", min:0, max:100, step:1}\n",
        "\n",
        "img = test_images[image_index,:,:,0]\n",
        "label = test_labels[image_index]\n",
        "preds = predictions[image_index]\n",
        "\n",
        "plt.subplot(1,2,1)\n",
        "plt.imshow(img, cmap=plt.cm.binary)\n",
        "plt.axis('off')\n",
        "plt.title(f\"Real: {label}, Estimado: {preds.argmax()}\")\n",
        "\n",
        "plt.subplot(1,2,2)\n",
        "plt.bar(\n",
        "    [str(i) for i in range(10)], preds,\n",
        "    align='center', linewidth=0)\n",
        "plt.title('Probabilidades de cada clase')\n",
        "#for spine in plt.gca().spines.values():\n",
        "#    spine.set_visible(False)\n",
        "plt.tick_params(\n",
        "    top='off', bottom='off', left='off', right='off',\n",
        "    labelleft='off', labelbottom='on')\n"
      ],
      "metadata": {
        "cellView": "form",
        "id": "dENXq1ZmQT1-"
      },
      "execution_count": null,
      "outputs": []
    }
  ]
}